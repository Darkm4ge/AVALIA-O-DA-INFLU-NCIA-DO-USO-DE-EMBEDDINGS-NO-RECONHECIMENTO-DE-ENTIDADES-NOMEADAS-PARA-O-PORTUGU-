{
  "cells": [
    {
      "cell_type": "markdown",
      "metadata": {
        "id": "M_wSlmVnjBfP"
      },
      "source": [
        "# Experimentos utilizando a rede BiLSTM-CRF com o framework FlairNLP\n",
        "\n",
        "Os experimentos à seguir avaliam a Influencia do uso de Embeddings no Reconhecimento de Entidades Nomeadas para o Portugues, utilizando os Corpora Multi_WikiNER, LeNER_br e PL-Corpus e os embeddings Pt-Wiki-Fasttext, Flair Embeddings e BERTimbau.\n",
        "\n",
        "Baseado nos tutoriais do flairNLP\n",
        "https://github.com/flairNLP/flair"
      ]
    },
    {
      "cell_type": "code",
      "execution_count": null,
      "metadata": {
        "id": "n7cv6MyYj9g4"
      },
      "outputs": [],
      "source": [
        "## Instalando o Flair e o Transformers\n",
        "%%capture\n",
        "!pip install flair transformers"
      ]
    },
    {
      "cell_type": "markdown",
      "source": [
        "# Corpus Multi_WikiNER"
      ],
      "metadata": {
        "id": "DRDUfHT5hBKQ"
      }
    },
    {
      "cell_type": "markdown",
      "metadata": {
        "id": "zEAuBQUjA0bl"
      },
      "source": [
        "## Vetor Estático Pt-Wiki-Fasttext\n"
      ]
    },
    {
      "cell_type": "markdown",
      "metadata": {
        "id": "ecLSL6v1A0bq"
      },
      "source": [
        "### Imports"
      ]
    },
    {
      "cell_type": "code",
      "execution_count": null,
      "metadata": {
        "id": "3E0IZf4sA0bq"
      },
      "outputs": [],
      "source": [
        "## Imports\n",
        "\n",
        "## Corpus\n",
        "from flair.datasets import NER_MULTI_WIKINER\n",
        "\n",
        "## Embeddings\n",
        "from flair.embeddings import WordEmbeddings\n",
        "\n",
        "## Modelo/Treino\n",
        "from flair.models import SequenceTagger\n",
        "from flair.trainers import ModelTrainer"
      ]
    },
    {
      "cell_type": "markdown",
      "metadata": {
        "id": "Tb2KbJ6LA0br"
      },
      "source": [
        "### Corpus"
      ]
    },
    {
      "cell_type": "code",
      "execution_count": null,
      "metadata": {
        "id": "7ZehCu-YA0br"
      },
      "outputs": [],
      "source": [
        "## Corpus\n",
        "# 1. get the corpus\n",
        "corpus = NER_MULTI_WIKINER()\n",
        "print(corpus)\n",
        "\n",
        "## Tarefa\n",
        "# 2. what label do we want to predict?\n",
        "label_type = 'ner'"
      ]
    },
    {
      "cell_type": "code",
      "execution_count": null,
      "metadata": {
        "id": "79eqxwH-A0br"
      },
      "outputs": [],
      "source": [
        "## Dicionário de rótulos\n",
        "# 3. make the label dictionary from the corpus\n",
        "label_dict = corpus.make_label_dictionary(label_type=label_type)\n",
        "print(label_dict)"
      ]
    },
    {
      "cell_type": "markdown",
      "metadata": {
        "id": "fa8JGdIZA0br"
      },
      "source": [
        "### Embeddings"
      ]
    },
    {
      "cell_type": "code",
      "execution_count": null,
      "metadata": {
        "id": "1R0JQ7PJA0br"
      },
      "outputs": [],
      "source": [
        "## Embeddings\n",
        "# 4. initialize embedding\n",
        "embeddings = WordEmbeddings('pt')"
      ]
    },
    {
      "cell_type": "markdown",
      "metadata": {
        "id": "o_Pwv28MA0br"
      },
      "source": [
        "### Treino"
      ]
    },
    {
      "cell_type": "code",
      "execution_count": null,
      "metadata": {
        "id": "ecCdj_i-A0br"
      },
      "outputs": [],
      "source": [
        "## Inicializando o modelo\n",
        "# 5. initialize sequence tagger\n",
        "tagger = SequenceTagger(hidden_size=256,\n",
        "                        embeddings=embeddings,\n",
        "                        tag_dictionary=label_dict,\n",
        "                        tag_type=label_type,\n",
        "                        use_crf=True)"
      ]
    },
    {
      "cell_type": "code",
      "execution_count": null,
      "metadata": {
        "id": "1808-0DLA0br"
      },
      "outputs": [],
      "source": [
        "## Treinando o modelo\n",
        "# 6. initialize trainer\n",
        "trainer = ModelTrainer(tagger, corpus)\n",
        "\n",
        "# 7. start training\n",
        "trainer.train('resources/taggers/sota-ner-flair',\n",
        "              learning_rate=0.1,\n",
        "              mini_batch_size=32,\n",
        "              max_epochs=100)"
      ]
    },
    {
      "cell_type": "markdown",
      "metadata": {
        "id": "s3krh2xB7vtX"
      },
      "source": [
        "## Vetor de Contexto Flair Embeddings\n"
      ]
    },
    {
      "cell_type": "markdown",
      "metadata": {
        "id": "xvzF9y-17vte"
      },
      "source": [
        "### Imports"
      ]
    },
    {
      "cell_type": "code",
      "execution_count": null,
      "metadata": {
        "id": "6cYuGHBi7vte"
      },
      "outputs": [],
      "source": [
        "## Imports\n",
        "\n",
        "## Corpus\n",
        "from flair.datasets import NER_MULTI_WIKINER\n",
        "\n",
        "## Importando os Embeddings, Flair-pt\n",
        "from flair.embeddings import FlairEmbeddings\n",
        "\n",
        "## Modelo/Treino\n",
        "from flair.models import SequenceTagger\n",
        "from flair.trainers import ModelTrainer"
      ]
    },
    {
      "cell_type": "markdown",
      "metadata": {
        "id": "6nmlv9Di7vte"
      },
      "source": [
        "### Corpus"
      ]
    },
    {
      "cell_type": "code",
      "execution_count": null,
      "metadata": {
        "id": "-QApI0tN7vte"
      },
      "outputs": [],
      "source": [
        "## Corpus\n",
        "# 1. get the corpus\n",
        "corpus = NER_MULTI_WIKINER()\n",
        "print(corpus)\n",
        "\n",
        "## Tarefa\n",
        "# 2. what label do we want to predict?\n",
        "label_type = 'ner'"
      ]
    },
    {
      "cell_type": "code",
      "execution_count": null,
      "metadata": {
        "id": "nK9hh3GO7vte"
      },
      "outputs": [],
      "source": [
        "## Dicionário de rótulos\n",
        "# 3. make the label dictionary from the corpus\n",
        "label_dict = corpus.make_label_dictionary(label_type=label_type)\n",
        "print(label_dict)"
      ]
    },
    {
      "cell_type": "markdown",
      "metadata": {
        "id": "oomnwDAA7vtf"
      },
      "source": [
        "### Embeddings"
      ]
    },
    {
      "cell_type": "code",
      "execution_count": null,
      "metadata": {
        "id": "I0XS0GBN7vtf"
      },
      "outputs": [],
      "source": [
        "## 4. Stacked Embeddings\n",
        "from flair.embeddings import StackedEmbeddings\n",
        "\n",
        "# init Flair embeddings\n",
        "flair_embedding_forward = FlairEmbeddings('pt-forward')\n",
        "flair_embedding_backward = FlairEmbeddings('pt-backward')\n",
        "\n",
        "# create a StackedEmbedding object that combines glove and forward/backward flair embeddings\n",
        "embeddings = StackedEmbeddings([\n",
        "                                        flair_embedding_forward,\n",
        "                                        flair_embedding_backward,\n",
        "                                       ])"
      ]
    },
    {
      "cell_type": "markdown",
      "metadata": {
        "id": "KwbeFKLl7vtf"
      },
      "source": [
        "### Treino"
      ]
    },
    {
      "cell_type": "code",
      "execution_count": null,
      "metadata": {
        "id": "PHXxqWJi7vtf"
      },
      "outputs": [],
      "source": [
        "## Inicializando o modelo\n",
        "# 5. initialize sequence tagger\n",
        "tagger = SequenceTagger(hidden_size=256,\n",
        "                        embeddings=embeddings,\n",
        "                        tag_dictionary=label_dict,\n",
        "                        tag_type=label_type,\n",
        "                        use_crf=True)"
      ]
    },
    {
      "cell_type": "code",
      "source": [
        "## Montando o Drive (Em virtude do longo tempo de treinamento pode ser necessário segmentar o treinamento em etapas, por essa razão é utilizado o drive para carregar o checkpoint)\n",
        "from google.colab import drive\n",
        "drive.mount('/content/drive')\n",
        "path = '/content/drive/MyDrive/Flair_NLP/sota-ner-flair'"
      ],
      "metadata": {
        "id": "k1A6sZkMa_If"
      },
      "execution_count": null,
      "outputs": []
    },
    {
      "cell_type": "code",
      "execution_count": null,
      "metadata": {
        "id": "uARO7zxfSxh8"
      },
      "outputs": [],
      "source": [
        "## Treinando o modelo\n",
        "# 6. initialize trainer\n",
        "trainer = ModelTrainer(tagger, corpus)\n",
        "\n",
        "# 7. start training\n",
        "trainer.train(path,\n",
        "              learning_rate=0.1,\n",
        "              mini_batch_size=32,\n",
        "              max_epochs=10,\n",
        "              checkpoint=True)"
      ]
    },
    {
      "cell_type": "code",
      "execution_count": null,
      "metadata": {
        "id": "obKxpufr7vtf"
      },
      "outputs": [],
      "source": [
        "## Continuando o treinamento\n",
        "trainer = ModelTrainer(tagger, corpus)\n",
        "\n",
        "# 8. continue training at later point. Load previously trained model checkpoint, then resume\n",
        "trained_model = SequenceTagger.load(path + '/checkpoint.pt')\n",
        "\n",
        "# resume training best model, but this time until new max-epochs\n",
        "trainer.resume(trained_model,\n",
        "               base_path=path + '-resume',\n",
        "               max_epochs=65,\n",
        "               checkpoint=True,\n",
        "               )"
      ]
    },
    {
      "cell_type": "markdown",
      "metadata": {
        "id": "OW7c_AtGp5KS"
      },
      "source": [
        "## Vetores Estático e de Contexto concatenados (Pt-Wiki-Fastext e Flair Embeddings)"
      ]
    },
    {
      "cell_type": "markdown",
      "metadata": {
        "id": "tT07DOE1nVIj"
      },
      "source": [
        "### Imports"
      ]
    },
    {
      "cell_type": "code",
      "execution_count": null,
      "metadata": {
        "id": "-_eg69twjJm6"
      },
      "outputs": [],
      "source": [
        "## Imports\n",
        "\n",
        "## Corpus\n",
        "from flair.datasets import NER_MULTI_WIKINER\n",
        "\n",
        "## Embeddings\n",
        "from flair.embeddings import WordEmbeddings, FlairEmbeddings, StackedEmbeddings\n",
        "\n",
        "## Modelo/Treino\n",
        "from flair.models import SequenceTagger\n",
        "from flair.trainers import ModelTrainer"
      ]
    },
    {
      "cell_type": "markdown",
      "metadata": {
        "id": "m4koyc4JnYod"
      },
      "source": [
        "### Corpus"
      ]
    },
    {
      "cell_type": "code",
      "execution_count": null,
      "metadata": {
        "id": "rvs0-sA2jeeu"
      },
      "outputs": [],
      "source": [
        "## Corpus\n",
        "# 1. get the corpus\n",
        "corpus = NER_MULTI_WIKINER()\n",
        "print(corpus)\n",
        "\n",
        "## Tarefa\n",
        "# 2. what label do we want to predict?\n",
        "label_type = 'ner'"
      ]
    },
    {
      "cell_type": "code",
      "execution_count": null,
      "metadata": {
        "id": "NWEtRTZFjlPN"
      },
      "outputs": [],
      "source": [
        "## Dicionário de rótulos\n",
        "# 3. make the label dictionary from the corpus\n",
        "label_dict = corpus.make_label_dictionary(label_type=label_type)\n",
        "print(label_dict)"
      ]
    },
    {
      "cell_type": "markdown",
      "metadata": {
        "id": "LE4G2c3MncbG"
      },
      "source": [
        "### Embeddings"
      ]
    },
    {
      "cell_type": "code",
      "execution_count": null,
      "metadata": {
        "id": "lNFsG2dAkEJA"
      },
      "outputs": [],
      "source": [
        "## 4. Stacked Embeddings\n",
        "# Initialize embedding stack with\n",
        "embedding_types = [\n",
        "    WordEmbeddings('pt'),\n",
        "    FlairEmbeddings('pt-forward'),\n",
        "    FlairEmbeddings('pt-backward')\n",
        "]\n",
        "\n",
        "embeddings = StackedEmbeddings(embeddings=embedding_types)"
      ]
    },
    {
      "cell_type": "markdown",
      "metadata": {
        "id": "rmAx0fh0nhhJ"
      },
      "source": [
        "### Treino"
      ]
    },
    {
      "cell_type": "code",
      "execution_count": null,
      "metadata": {
        "id": "oKqPbwHoqYkc"
      },
      "outputs": [],
      "source": [
        "## Inicializando o modelo\n",
        "# 5. initialize sequence tagger\n",
        "tagger = SequenceTagger(hidden_size=256,\n",
        "                        embeddings=embeddings,\n",
        "                        tag_dictionary=label_dict,\n",
        "                        tag_type=label_type,\n",
        "                        use_crf=True)"
      ]
    },
    {
      "cell_type": "code",
      "source": [
        "## Montando o Drive (Em virtude do longo tempo de treinamento pode ser necessário segmentar o treinamento em etapas, por essa razão é utilizado o drive para carregar o checkpoint)\n",
        "from google.colab import drive\n",
        "drive.mount('/content/drive')\n",
        "path = '/content/drive/MyDrive/Flair_NLP/sota-ner-flair'"
      ],
      "metadata": {
        "id": "bLsooC8_kZuF"
      },
      "execution_count": null,
      "outputs": []
    },
    {
      "cell_type": "code",
      "execution_count": null,
      "metadata": {
        "id": "4bDfp3zCuIjt"
      },
      "outputs": [],
      "source": [
        "## Treinando o modelo\n",
        "# 6. initialize trainer\n",
        "trainer = ModelTrainer(tagger, corpus)\n",
        "\n",
        "# 7. start training\n",
        "trainer.train(path,\n",
        "              learning_rate=0.1,\n",
        "              mini_batch_size=32,\n",
        "              max_epochs=10,\n",
        "              checkpoint=True)"
      ]
    },
    {
      "cell_type": "code",
      "execution_count": null,
      "metadata": {
        "id": "GijkPYmdf87i"
      },
      "outputs": [],
      "source": [
        "## Continuando o treinamento\n",
        "trainer = ModelTrainer(tagger, corpus)\n",
        "\n",
        "# 8. continue training at later point. Load previously trained model checkpoint, then resume\n",
        "trained_model = SequenceTagger.load(path + '/checkpoint.pt')\n",
        "\n",
        "# resume training best model, but this time until new max-epochs\n",
        "trainer.resume(trained_model,\n",
        "               base_path=path + '-resume',\n",
        "               max_epochs=50,\n",
        "               checkpoint=True,\n",
        "               )"
      ]
    },
    {
      "cell_type": "markdown",
      "metadata": {
        "id": "aoKhH3QqdZdS"
      },
      "source": [
        "## Vetor de Contexto BERTimbau\n"
      ]
    },
    {
      "cell_type": "markdown",
      "metadata": {
        "id": "_uFWjSmHdZdT"
      },
      "source": [
        "### Imports"
      ]
    },
    {
      "cell_type": "code",
      "execution_count": null,
      "metadata": {
        "id": "jdn8vyqvdZdT"
      },
      "outputs": [],
      "source": [
        "## Imports\n",
        "\n",
        "## Corpus\n",
        "from flair.datasets import NER_MULTI_WIKINER\n",
        "\n",
        "## Importando os Embeddings, BERTinbaum e Flair-pt\n",
        "from flair.embeddings import TransformerWordEmbeddings\n",
        "\n",
        "## Modelo/Treino\n",
        "from flair.models import SequenceTagger\n",
        "from flair.trainers import ModelTrainer"
      ]
    },
    {
      "cell_type": "markdown",
      "metadata": {
        "id": "-M8CvTbxdZdT"
      },
      "source": [
        "### Corpus"
      ]
    },
    {
      "cell_type": "code",
      "execution_count": null,
      "metadata": {
        "id": "43sY84HrdZdT"
      },
      "outputs": [],
      "source": [
        "## Corpus\n",
        "# 1. get the corpus\n",
        "corpus = NER_MULTI_WIKINER() #.downsample(0.8)\n",
        "print(corpus)\n",
        "\n",
        "## Tarefa\n",
        "# 2. what label do we want to predict?\n",
        "label_type = 'ner'"
      ]
    },
    {
      "cell_type": "code",
      "execution_count": null,
      "metadata": {
        "id": "lHqoXnmkdZdT"
      },
      "outputs": [],
      "source": [
        "## Dicionário de rótulos\n",
        "# 3. make the label dictionary from the corpus\n",
        "label_dict = corpus.make_label_dictionary(label_type=label_type)\n",
        "print(label_dict)"
      ]
    },
    {
      "cell_type": "markdown",
      "metadata": {
        "id": "e0yYFk_KdZdU"
      },
      "source": [
        "### Embeddings"
      ]
    },
    {
      "cell_type": "code",
      "execution_count": null,
      "metadata": {
        "id": "U-tkEpy4agYm"
      },
      "outputs": [],
      "source": [
        "## Apenas Bert\n",
        "embeddings = TransformerWordEmbeddings('neuralmind/bert-base-portuguese-cased')"
      ]
    },
    {
      "cell_type": "markdown",
      "metadata": {
        "id": "7rAFJn8J5TbO"
      },
      "source": [
        "### Treino"
      ]
    },
    {
      "cell_type": "code",
      "execution_count": null,
      "metadata": {
        "id": "DrqIQBuY5TbP"
      },
      "outputs": [],
      "source": [
        "## Inicializando o modelo\n",
        "# 5. initialize sequence tagger\n",
        "tagger = SequenceTagger(hidden_size=256,\n",
        "                        embeddings=embeddings,\n",
        "                        tag_dictionary=label_dict,\n",
        "                        tag_type=label_type,\n",
        "                        use_crf=True)"
      ]
    },
    {
      "cell_type": "code",
      "execution_count": null,
      "metadata": {
        "id": "iybJCEXD5TbQ"
      },
      "outputs": [],
      "source": [
        "## Treinando o modelo\n",
        "# 6. initialize trainer\n",
        "trainer = ModelTrainer(tagger, corpus)\n",
        "\n",
        "# 7. start training\n",
        "trainer.train('resources/taggers/sota-ner-flair',\n",
        "              learning_rate=0.1,\n",
        "              mini_batch_size=32,\n",
        "              max_epochs=30)"
      ]
    },
    {
      "cell_type": "markdown",
      "source": [
        "# Corpus LeNER_br"
      ],
      "metadata": {
        "id": "KJDpYOkAiHtN"
      }
    },
    {
      "cell_type": "markdown",
      "metadata": {
        "id": "8kCAsXVDL2cl"
      },
      "source": [
        "## Vetor Estático Pt-Wiki-Fasttext\n"
      ]
    },
    {
      "cell_type": "markdown",
      "metadata": {
        "id": "C87p0ahbL2cr"
      },
      "source": [
        "### Imports"
      ]
    },
    {
      "cell_type": "code",
      "execution_count": null,
      "metadata": {
        "id": "OPzFZZOmL2cr"
      },
      "outputs": [],
      "source": [
        "## Importes\n",
        "## datasets\n",
        "from flair.data import Corpus\n",
        "from flair.datasets import ColumnCorpus\n",
        "\n",
        "## Embeddings\n",
        "from flair.embeddings import WordEmbeddings\n",
        "\n",
        "## Modelo/Treino\n",
        "from flair.models import SequenceTagger\n",
        "from flair.trainers import ModelTrainer"
      ]
    },
    {
      "cell_type": "markdown",
      "metadata": {
        "id": "U763QiM7L2cs"
      },
      "source": [
        "### Corpus"
      ]
    },
    {
      "cell_type": "code",
      "execution_count": null,
      "metadata": {
        "id": "VN3jQEBML2cs"
      },
      "outputs": [],
      "source": [
        "## Montando o Drive\n",
        "from google.colab import drive\n",
        "drive.mount('/content/drive')"
      ]
    },
    {
      "cell_type": "code",
      "execution_count": null,
      "metadata": {
        "id": "Sl-WBwPjL2cs"
      },
      "outputs": [],
      "source": [
        "## carregando um corpus e definindo as colunas\n",
        "# define columns\n",
        "columns = {0: 'text', 1: 'ner'}\n",
        "\n",
        "# this is the folder in which train, test and dev files reside\n",
        "data_folder = '/content/drive/MyDrive/Flair_NLP/Corpus/Lener_br/Orig'\n",
        "\n",
        "# init a corpus using column format, data folder and the names of the train, dev and test files\n",
        "corpus: Corpus = ColumnCorpus(data_folder, columns,\n",
        "                              train_file='train.txt',\n",
        "                              test_file='test.txt',\n",
        "                              dev_file='dev.txt')\n",
        "\n",
        "## Tarefa\n",
        "label_type = 'ner'"
      ]
    },
    {
      "cell_type": "code",
      "execution_count": null,
      "metadata": {
        "id": "f9k2l7IJL2cs"
      },
      "outputs": [],
      "source": [
        "## Dicionário de rótulos\n",
        "# Make the label dictionary from the corpus\n",
        "label_dict = corpus.make_label_dictionary(label_type=label_type)\n",
        "print(label_dict)"
      ]
    },
    {
      "cell_type": "markdown",
      "metadata": {
        "id": "rrNaYl5VL2cs"
      },
      "source": [
        "### Embeddings"
      ]
    },
    {
      "cell_type": "code",
      "execution_count": null,
      "metadata": {
        "id": "ZSCJO9fEL2cs"
      },
      "outputs": [],
      "source": [
        "## Embeddings\n",
        "# Initialize embedding\n",
        "embeddings = WordEmbeddings('pt')"
      ]
    },
    {
      "cell_type": "markdown",
      "metadata": {
        "id": "Xph3wVUvL2cs"
      },
      "source": [
        "### Treino"
      ]
    },
    {
      "cell_type": "code",
      "execution_count": null,
      "metadata": {
        "id": "53iwI84iL2cs"
      },
      "outputs": [],
      "source": [
        "## Inicializando o modelo\n",
        "tagger = SequenceTagger(hidden_size=256,\n",
        "                        embeddings=embeddings,\n",
        "                        tag_dictionary=label_dict,\n",
        "                        tag_type=label_type,\n",
        "                        use_crf=True)"
      ]
    },
    {
      "cell_type": "code",
      "execution_count": null,
      "metadata": {
        "id": "nhMzkvGsL2ct"
      },
      "outputs": [],
      "source": [
        "## Treinando o modelo\n",
        "# Initialize trainer\n",
        "trainer = ModelTrainer(tagger, corpus)\n",
        "\n",
        "# Start training\n",
        "trainer.train('resources/taggers/sota-ner-flair',\n",
        "              learning_rate=0.1,\n",
        "              mini_batch_size=32,\n",
        "              max_epochs=100)"
      ]
    },
    {
      "cell_type": "markdown",
      "metadata": {
        "id": "qTcj9YXEf5HQ"
      },
      "source": [
        "## Vetor de Contexto Flair Embeddings\n"
      ]
    },
    {
      "cell_type": "markdown",
      "metadata": {
        "id": "KLzcp2Rff5HV"
      },
      "source": [
        "### Imports"
      ]
    },
    {
      "cell_type": "code",
      "execution_count": null,
      "metadata": {
        "id": "Uw5JyQQif5HV"
      },
      "outputs": [],
      "source": [
        "## Importes\n",
        "## datasets\n",
        "from flair.data import Corpus\n",
        "from flair.datasets import ColumnCorpus\n",
        "\n",
        "## Embeddings\n",
        "from flair.embeddings import FlairEmbeddings, StackedEmbeddings\n",
        "\n",
        "## Modelo/Treino\n",
        "from flair.models import SequenceTagger\n",
        "from flair.trainers import ModelTrainer"
      ]
    },
    {
      "cell_type": "markdown",
      "metadata": {
        "id": "ljmFfYgSf5HV"
      },
      "source": [
        "### Corpus"
      ]
    },
    {
      "cell_type": "code",
      "execution_count": null,
      "metadata": {
        "id": "83XBVxjof5HV"
      },
      "outputs": [],
      "source": [
        "## Montando o Drive\n",
        "from google.colab import drive\n",
        "drive.mount('/content/drive')"
      ]
    },
    {
      "cell_type": "code",
      "execution_count": null,
      "metadata": {
        "id": "X8v2EiBnf5HW"
      },
      "outputs": [],
      "source": [
        "## carregando um corpus e definindo as colunas\n",
        "# define columns\n",
        "columns = {0: 'text', 1: 'ner'}\n",
        "\n",
        "# this is the folder in which train, test and dev files reside\n",
        "data_folder = '/content/drive/MyDrive/Flair_NLP/Corpus/Lener_br/Orig'\n",
        "\n",
        "# init a corpus using column format, data folder and the names of the train, dev and test files\n",
        "corpus: Corpus = ColumnCorpus(data_folder, columns,\n",
        "                              train_file='train.txt',\n",
        "                              test_file='test.txt',\n",
        "                              dev_file='dev.txt')\n",
        "\n",
        "## Tarefa\n",
        "label_type = 'ner'"
      ]
    },
    {
      "cell_type": "code",
      "execution_count": null,
      "metadata": {
        "id": "Z8Fv6acGf5HW"
      },
      "outputs": [],
      "source": [
        "## Dicionário de rótulos\n",
        "# Make the label dictionary from the corpus\n",
        "label_dict = corpus.make_label_dictionary(label_type=label_type)\n",
        "print(label_dict)"
      ]
    },
    {
      "cell_type": "markdown",
      "metadata": {
        "id": "qCyAXFcqf5HW"
      },
      "source": [
        "### Embeddings"
      ]
    },
    {
      "cell_type": "code",
      "execution_count": null,
      "metadata": {
        "id": "587jiNMHf5HW"
      },
      "outputs": [],
      "source": [
        "## Empilhando os Embeddings\n",
        "# init Flair embeddings\n",
        "flair_embedding_forward = FlairEmbeddings('pt-forward')\n",
        "flair_embedding_backward = FlairEmbeddings('pt-backward')\n",
        "\n",
        "# create a StackedEmbedding object that combines glove and forward/backward flair embeddings\n",
        "embeddings = StackedEmbeddings([\n",
        "                                        flair_embedding_forward,\n",
        "                                        flair_embedding_backward,\n",
        "                                       ])"
      ]
    },
    {
      "cell_type": "markdown",
      "metadata": {
        "id": "tMiKWbCFf5HW"
      },
      "source": [
        "### Treino"
      ]
    },
    {
      "cell_type": "code",
      "execution_count": null,
      "metadata": {
        "id": "UzaVRDGIf5HX"
      },
      "outputs": [],
      "source": [
        "## Inicializando o modelo\n",
        "tagger = SequenceTagger(hidden_size=256,\n",
        "                        embeddings=embeddings,\n",
        "                        tag_dictionary=label_dict,\n",
        "                        tag_type=label_type,\n",
        "                        use_crf=True)"
      ]
    },
    {
      "cell_type": "code",
      "execution_count": null,
      "metadata": {
        "id": "mVRmATIZf5HX"
      },
      "outputs": [],
      "source": [
        "## Treinando o modelo\n",
        "# Initialize trainer\n",
        "trainer = ModelTrainer(tagger, corpus)\n",
        "\n",
        "# Start training\n",
        "trainer.train('resources/taggers/sota-ner-flair',\n",
        "              learning_rate=0.1,\n",
        "              mini_batch_size=32,\n",
        "              max_epochs=100)"
      ]
    },
    {
      "cell_type": "markdown",
      "metadata": {
        "id": "knRAUHLJn2ze"
      },
      "source": [
        "## Vetores Estático e de Contexto concatenados (Pt-Wiki-Fastext e Flair Embeddings)\n"
      ]
    },
    {
      "cell_type": "markdown",
      "metadata": {
        "id": "irBiiaDkn2zm"
      },
      "source": [
        "### Imports"
      ]
    },
    {
      "cell_type": "code",
      "execution_count": null,
      "metadata": {
        "id": "4xxcq2Z4n2zm"
      },
      "outputs": [],
      "source": [
        "## Importes\n",
        "## datasets\n",
        "from flair.data import Corpus\n",
        "from flair.datasets import ColumnCorpus\n",
        "\n",
        "## Embeddings\n",
        "from flair.embeddings import WordEmbeddings, FlairEmbeddings, StackedEmbeddings\n",
        "\n",
        "## Modelo/Treino\n",
        "from flair.models import SequenceTagger\n",
        "from flair.trainers import ModelTrainer"
      ]
    },
    {
      "cell_type": "markdown",
      "metadata": {
        "id": "4bJPzMJEn2zm"
      },
      "source": [
        "### Corpus"
      ]
    },
    {
      "cell_type": "code",
      "execution_count": null,
      "metadata": {
        "colab": {
          "base_uri": "https://localhost:8080/"
        },
        "id": "Qq9JAufOljve",
        "outputId": "cd466baa-4653-456c-b315-44d5bb8b171b"
      },
      "outputs": [
        {
          "output_type": "stream",
          "name": "stdout",
          "text": [
            "Mounted at /content/drive\n"
          ]
        }
      ],
      "source": [
        "## Montando o Drive\n",
        "from google.colab import drive\n",
        "drive.mount('/content/drive')"
      ]
    },
    {
      "cell_type": "code",
      "execution_count": null,
      "metadata": {
        "id": "ahzWdLNon2zn"
      },
      "outputs": [],
      "source": [
        "## carregando um corpus e definindo as colunas\n",
        "# define columns\n",
        "columns = {0: 'text', 1: 'ner'}\n",
        "\n",
        "# this is the folder in which train, test and dev files reside\n",
        "data_folder = '/content/drive/MyDrive/Flair_NLP/Corpus/Lener_br/Orig'\n",
        "\n",
        "# init a corpus using column format, data folder and the names of the train, dev and test files\n",
        "corpus: Corpus = ColumnCorpus(data_folder, columns,\n",
        "                              train_file='train.txt',\n",
        "                              test_file='test.txt',\n",
        "                              dev_file='dev.txt')\n",
        "\n",
        "## Tarefa\n",
        "label_type = 'ner'"
      ]
    },
    {
      "cell_type": "code",
      "execution_count": null,
      "metadata": {
        "id": "wM_mljCTn2zn"
      },
      "outputs": [],
      "source": [
        "## Dicionário de rótulos\n",
        "# Make the label dictionary from the corpus\n",
        "label_dict = corpus.make_label_dictionary(label_type=label_type)\n",
        "print(label_dict)"
      ]
    },
    {
      "cell_type": "markdown",
      "metadata": {
        "id": "Ha3l1o97n2zn"
      },
      "source": [
        "### Embeddings"
      ]
    },
    {
      "cell_type": "code",
      "execution_count": null,
      "metadata": {
        "id": "AQWs5uWTn2zn"
      },
      "outputs": [],
      "source": [
        "## Stacked Embeddings\n",
        "# Initialize embedding stack with\n",
        "embedding_types = [\n",
        "    WordEmbeddings('pt'),\n",
        "    FlairEmbeddings('pt-forward'),\n",
        "    FlairEmbeddings('pt-backward')\n",
        "]\n",
        "\n",
        "embeddings = StackedEmbeddings(embeddings=embedding_types)"
      ]
    },
    {
      "cell_type": "markdown",
      "metadata": {
        "id": "_C7591KDn2zn"
      },
      "source": [
        "### Treino"
      ]
    },
    {
      "cell_type": "code",
      "execution_count": null,
      "metadata": {
        "id": "JzBtDqDVn2zn"
      },
      "outputs": [],
      "source": [
        "## Inicializando o modelo\n",
        "tagger = SequenceTagger(hidden_size=256,\n",
        "                        embeddings=embeddings,\n",
        "                        tag_dictionary=label_dict,\n",
        "                        tag_type=label_type,\n",
        "                        use_crf=True)"
      ]
    },
    {
      "cell_type": "code",
      "execution_count": null,
      "metadata": {
        "id": "V9-BqtQhn2zn"
      },
      "outputs": [],
      "source": [
        "## Treinando o modelo\n",
        "# Initialize trainer\n",
        "trainer = ModelTrainer(tagger, corpus)\n",
        "\n",
        "# Start training\n",
        "trainer.train('resources/taggers/sota-ner-flair',\n",
        "              learning_rate=0.1,\n",
        "              mini_batch_size=32,\n",
        "              max_epochs=100)"
      ]
    },
    {
      "cell_type": "markdown",
      "source": [
        "# Corpus PL-Corpus"
      ],
      "metadata": {
        "id": "jxZ5uAr6jHay"
      }
    },
    {
      "cell_type": "markdown",
      "metadata": {
        "id": "7MTdmN9sXiue"
      },
      "source": [
        "## Vetor Estático Pt-Wiki-Fasttext\n"
      ]
    },
    {
      "cell_type": "markdown",
      "metadata": {
        "id": "Imr7x0qBXiue"
      },
      "source": [
        "### Imports"
      ]
    },
    {
      "cell_type": "code",
      "execution_count": null,
      "metadata": {
        "id": "cZ1-KE5TXiuf"
      },
      "outputs": [],
      "source": [
        "## Importes\n",
        "## datasets\n",
        "from flair.data import Corpus\n",
        "from flair.datasets import ColumnCorpus\n",
        "\n",
        "## Embeddings\n",
        "from flair.embeddings import WordEmbeddings\n",
        "\n",
        "## Modelo/Treino\n",
        "from flair.models import SequenceTagger\n",
        "from flair.trainers import ModelTrainer"
      ]
    },
    {
      "cell_type": "markdown",
      "metadata": {
        "id": "vahJdSIZXiuf"
      },
      "source": [
        "### Corpus"
      ]
    },
    {
      "cell_type": "code",
      "execution_count": null,
      "metadata": {
        "id": "hxAT58P6Xiuf"
      },
      "outputs": [],
      "source": [
        "## Montando o Drive\n",
        "from google.colab import drive\n",
        "drive.mount('/content/drive')"
      ]
    },
    {
      "cell_type": "code",
      "execution_count": null,
      "metadata": {
        "id": "0sFS3xnZXiuf"
      },
      "outputs": [],
      "source": [
        "## carregando um corpus e definindo as colunas\n",
        "# define columns\n",
        "columns = {0: 'text', 1: 'ner'}\n",
        "\n",
        "# this is the folder in which train, test and dev files reside\n",
        "data_folder = '/content/drive/MyDrive/Flair_NLP/Corpus/pl_corpus_categoria'\n",
        "\n",
        "# init a corpus using column format, data folder and the names of the train, dev and test files\n",
        "corpus: Corpus = ColumnCorpus(data_folder, columns,\n",
        "                              train_file='train.txt',\n",
        "                              test_file='test.txt',\n",
        "                              dev_file='valid.txt')\n",
        "\n",
        "## Tarefa\n",
        "label_type = 'ner'"
      ]
    },
    {
      "cell_type": "code",
      "execution_count": null,
      "metadata": {
        "id": "_G2H4mmPXiuf"
      },
      "outputs": [],
      "source": [
        "## Dicionário de rótulos\n",
        "# Make the label dictionary from the corpus\n",
        "label_dict = corpus.make_label_dictionary(label_type=label_type)\n",
        "print(label_dict)"
      ]
    },
    {
      "cell_type": "markdown",
      "metadata": {
        "id": "1-QW-CsvXiuf"
      },
      "source": [
        "### Embeddings"
      ]
    },
    {
      "cell_type": "code",
      "execution_count": null,
      "metadata": {
        "id": "8reOvhyiXiuf"
      },
      "outputs": [],
      "source": [
        "## Embeddings\n",
        "# Initialize embedding\n",
        "embeddings = WordEmbeddings('pt')"
      ]
    },
    {
      "cell_type": "markdown",
      "metadata": {
        "id": "oJyzWvyRXiuf"
      },
      "source": [
        "### Treino"
      ]
    },
    {
      "cell_type": "code",
      "execution_count": null,
      "metadata": {
        "id": "meHCeIcVXiuf"
      },
      "outputs": [],
      "source": [
        "## Inicializando o modelo\n",
        "tagger = SequenceTagger(hidden_size=256,\n",
        "                        embeddings=embeddings,\n",
        "                        tag_dictionary=label_dict,\n",
        "                        tag_type=label_type,\n",
        "                        use_crf=True)"
      ]
    },
    {
      "cell_type": "code",
      "execution_count": null,
      "metadata": {
        "id": "iQPTkp5lXiug"
      },
      "outputs": [],
      "source": [
        "## Treinando o modelo\n",
        "# Initialize trainer\n",
        "trainer = ModelTrainer(tagger, corpus)\n",
        "path = 'resources/taggers/sota-ner-flair'\n",
        "\n",
        "# Start training\n",
        "trainer.train(path,\n",
        "              learning_rate=0.1,\n",
        "              mini_batch_size=32,\n",
        "              max_epochs=100)"
      ]
    },
    {
      "cell_type": "markdown",
      "metadata": {
        "id": "zKd693ELYMLh"
      },
      "source": [
        "## Vetor de Contexto Flair Embeddings\n"
      ]
    },
    {
      "cell_type": "markdown",
      "metadata": {
        "id": "d7PKxStLvY2j"
      },
      "source": [
        "### Imports"
      ]
    },
    {
      "cell_type": "code",
      "execution_count": null,
      "metadata": {
        "id": "VIFoJwD_vY2j"
      },
      "outputs": [],
      "source": [
        "## Importes\n",
        "## datasets\n",
        "from flair.data import Corpus\n",
        "from flair.datasets import ColumnCorpus\n",
        "\n",
        "## Embeddings\n",
        "from flair.embeddings import FlairEmbeddings, StackedEmbeddings\n",
        "\n",
        "## Modelo/Treino\n",
        "from flair.models import SequenceTagger\n",
        "from flair.trainers import ModelTrainer"
      ]
    },
    {
      "cell_type": "markdown",
      "metadata": {
        "id": "8BFtUmgOvY2k"
      },
      "source": [
        "### Corpus"
      ]
    },
    {
      "cell_type": "code",
      "execution_count": null,
      "metadata": {
        "id": "JLXYTDeqvY2k",
        "colab": {
          "base_uri": "https://localhost:8080/"
        },
        "outputId": "428f918d-f677-428d-9859-6bcf2c4851a7"
      },
      "outputs": [
        {
          "output_type": "stream",
          "name": "stdout",
          "text": [
            "Mounted at /content/drive\n"
          ]
        }
      ],
      "source": [
        "## Montando o Drive\n",
        "from google.colab import drive\n",
        "drive.mount('/content/drive')"
      ]
    },
    {
      "cell_type": "code",
      "execution_count": null,
      "metadata": {
        "id": "FGpTljgpvY2k"
      },
      "outputs": [],
      "source": [
        "## carregando um corpus e definindo as colunas\n",
        "# define columns\n",
        "columns = {0: 'text', 1: 'ner'}\n",
        "\n",
        "# this is the folder in which train, test and dev files reside\n",
        "data_folder = '/content/drive/MyDrive/Flair_NLP/Corpus/pl_corpus_categoria'\n",
        "\n",
        "# init a corpus using column format, data folder and the names of the train, dev and test files\n",
        "corpus: Corpus = ColumnCorpus(data_folder, columns,\n",
        "                              train_file='train.txt',\n",
        "                              test_file='test.txt',\n",
        "                              dev_file='valid.txt')\n",
        "\n",
        "## Tarefa\n",
        "label_type = 'ner'"
      ]
    },
    {
      "cell_type": "code",
      "execution_count": null,
      "metadata": {
        "id": "Bdlc3GZBvY2k"
      },
      "outputs": [],
      "source": [
        "## Dicionário de rótulos\n",
        "# Make the label dictionary from the corpus\n",
        "label_dict = corpus.make_label_dictionary(label_type=label_type)\n",
        "print(label_dict)"
      ]
    },
    {
      "cell_type": "markdown",
      "metadata": {
        "id": "4ayg1NWNvY2k"
      },
      "source": [
        "### Embeddings"
      ]
    },
    {
      "cell_type": "code",
      "execution_count": null,
      "metadata": {
        "id": "wCpCA9SrvY2k"
      },
      "outputs": [],
      "source": [
        "## Stacked Embeddings\n",
        "# Initialize embedding stack with\n",
        "embedding_types = [\n",
        "    FlairEmbeddings('pt-forward'),\n",
        "    FlairEmbeddings('pt-backward')\n",
        "]\n",
        "\n",
        "embeddings = StackedEmbeddings(embeddings=embedding_types)"
      ]
    },
    {
      "cell_type": "markdown",
      "metadata": {
        "id": "4MBsE_USvY2k"
      },
      "source": [
        "### Treino"
      ]
    },
    {
      "cell_type": "code",
      "execution_count": null,
      "metadata": {
        "id": "yWhgHEXWvY2k"
      },
      "outputs": [],
      "source": [
        "## Inicializando o modelo\n",
        "tagger = SequenceTagger(hidden_size=256,\n",
        "                        embeddings=embeddings,\n",
        "                        tag_dictionary=label_dict,\n",
        "                        tag_type=label_type,\n",
        "                        use_crf=True)"
      ]
    },
    {
      "cell_type": "code",
      "execution_count": null,
      "metadata": {
        "id": "xNFTHWaivY2k"
      },
      "outputs": [],
      "source": [
        "## Treinando o modelo\n",
        "# Initialize trainer\n",
        "trainer = ModelTrainer(tagger, corpus)\n",
        "path = 'resources/taggers/sota-ner-flair'\n",
        "\n",
        "# Start training\n",
        "trainer.train(path,\n",
        "              learning_rate=0.1,\n",
        "              mini_batch_size=32,\n",
        "              max_epochs=100)"
      ]
    },
    {
      "cell_type": "markdown",
      "metadata": {
        "id": "cqkZzDs7XvWU"
      },
      "source": [
        "## Vetores Estático e de Contexto concatenados (Pt-Wiki-Fastext e Flair Embeddings)"
      ]
    },
    {
      "cell_type": "markdown",
      "metadata": {
        "id": "_9koheW1XvWU"
      },
      "source": [
        "### Imports"
      ]
    },
    {
      "cell_type": "code",
      "execution_count": null,
      "metadata": {
        "id": "QGPYMEVVXvWV"
      },
      "outputs": [],
      "source": [
        "## Importes\n",
        "## datasets\n",
        "from flair.data import Corpus\n",
        "from flair.datasets import ColumnCorpus\n",
        "\n",
        "## Embeddings\n",
        "from flair.embeddings import WordEmbeddings, FlairEmbeddings, StackedEmbeddings\n",
        "\n",
        "## Modelo/Treino\n",
        "from flair.models import SequenceTagger\n",
        "from flair.trainers import ModelTrainer"
      ]
    },
    {
      "cell_type": "markdown",
      "metadata": {
        "id": "NxlUtHXUXvWV"
      },
      "source": [
        "### Corpus"
      ]
    },
    {
      "cell_type": "code",
      "execution_count": null,
      "metadata": {
        "id": "rjdHxpqJXvWV"
      },
      "outputs": [],
      "source": [
        "## Montando o Drive\n",
        "from google.colab import drive\n",
        "drive.mount('/content/drive')"
      ]
    },
    {
      "cell_type": "code",
      "execution_count": null,
      "metadata": {
        "id": "ogKkyEOFXvWV"
      },
      "outputs": [],
      "source": [
        "## carregando um corpus e definindo as colunas\n",
        "# define columns\n",
        "columns = {0: 'text', 1: 'ner'}\n",
        "\n",
        "# this is the folder in which train, test and dev files reside\n",
        "data_folder = '/content/drive/MyDrive/Flair_NLP/Corpus/pl_corpus_categoria'\n",
        "\n",
        "# init a corpus using column format, data folder and the names of the train, dev and test files\n",
        "corpus: Corpus = ColumnCorpus(data_folder, columns,\n",
        "                              train_file='train.txt',\n",
        "                              test_file='test.txt',\n",
        "                              dev_file='valid.txt')\n",
        "\n",
        "## Tarefa\n",
        "label_type = 'ner'"
      ]
    },
    {
      "cell_type": "code",
      "execution_count": null,
      "metadata": {
        "id": "fgk0iC1HXvWV"
      },
      "outputs": [],
      "source": [
        "## Dicionário de rótulos\n",
        "# Make the label dictionary from the corpus\n",
        "label_dict = corpus.make_label_dictionary(label_type=label_type)\n",
        "print(label_dict)"
      ]
    },
    {
      "cell_type": "markdown",
      "metadata": {
        "id": "L-t7lTzYXvWV"
      },
      "source": [
        "### Embeddings"
      ]
    },
    {
      "cell_type": "code",
      "execution_count": null,
      "metadata": {
        "id": "wPOc2pQCXvWV"
      },
      "outputs": [],
      "source": [
        "## Stacked Embeddings\n",
        "# Initialize embedding stack with\n",
        "embedding_types = [\n",
        "    WordEmbeddings('pt'),\n",
        "    FlairEmbeddings('pt-forward'),\n",
        "    FlairEmbeddings('pt-backward')\n",
        "]\n",
        "\n",
        "embeddings = StackedEmbeddings(embeddings=embedding_types)"
      ]
    },
    {
      "cell_type": "markdown",
      "metadata": {
        "id": "H4Zo4q0dXvWV"
      },
      "source": [
        "### Treino"
      ]
    },
    {
      "cell_type": "code",
      "execution_count": null,
      "metadata": {
        "id": "F1NAYNS3XvWW"
      },
      "outputs": [],
      "source": [
        "## Inicializando o modelo\n",
        "tagger = SequenceTagger(hidden_size=256,\n",
        "                        embeddings=embeddings,\n",
        "                        tag_dictionary=label_dict,\n",
        "                        tag_type=label_type,\n",
        "                        use_crf=True)"
      ]
    },
    {
      "cell_type": "code",
      "execution_count": null,
      "metadata": {
        "id": "hUKVmeVAXvWW"
      },
      "outputs": [],
      "source": [
        "## Treinando o modelo\n",
        "# Initialize trainer\n",
        "trainer = ModelTrainer(tagger, corpus)\n",
        "path = 'resources/taggers/sota-ner-flair'\n",
        "\n",
        "# Start training\n",
        "trainer.train(path,\n",
        "              learning_rate=0.1,\n",
        "              mini_batch_size=32,\n",
        "              max_epochs=100)"
      ]
    }
  ],
  "metadata": {
    "accelerator": "GPU",
    "colab": {
      "collapsed_sections": [
        "DRDUfHT5hBKQ",
        "zEAuBQUjA0bl",
        "ecLSL6v1A0bq",
        "Tb2KbJ6LA0br",
        "fa8JGdIZA0br",
        "o_Pwv28MA0br",
        "s3krh2xB7vtX",
        "xvzF9y-17vte",
        "6nmlv9Di7vte",
        "oomnwDAA7vtf",
        "KwbeFKLl7vtf",
        "OW7c_AtGp5KS",
        "tT07DOE1nVIj",
        "m4koyc4JnYod",
        "LE4G2c3MncbG",
        "rmAx0fh0nhhJ",
        "aoKhH3QqdZdS",
        "_uFWjSmHdZdT",
        "-M8CvTbxdZdT",
        "e0yYFk_KdZdU",
        "rrNaYl5VL2cs",
        "qTcj9YXEf5HQ",
        "KLzcp2Rff5HV",
        "ljmFfYgSf5HV",
        "qCyAXFcqf5HW",
        "tMiKWbCFf5HW",
        "knRAUHLJn2ze",
        "irBiiaDkn2zm",
        "4bJPzMJEn2zm",
        "Ha3l1o97n2zn",
        "_C7591KDn2zn",
        "jxZ5uAr6jHay",
        "7MTdmN9sXiue",
        "d7PKxStLvY2j",
        "8BFtUmgOvY2k",
        "4ayg1NWNvY2k"
      ],
      "machine_shape": "hm",
      "provenance": [],
      "gpuType": "V100"
    },
    "kernelspec": {
      "display_name": "Python 3",
      "name": "python3"
    },
    "language_info": {
      "name": "python"
    }
  },
  "nbformat": 4,
  "nbformat_minor": 0
}